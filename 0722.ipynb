{
  "nbformat": 4,
  "nbformat_minor": 0,
  "metadata": {
    "colab": {
      "name": "0722.ipynb",
      "provenance": []
    },
    "kernelspec": {
      "name": "python3",
      "display_name": "Python 3"
    },
    "language_info": {
      "name": "python"
    }
  },
  "cells": [
    {
      "cell_type": "code",
      "execution_count": null,
      "metadata": {
        "colab": {
          "base_uri": "https://localhost:8080/"
        },
        "id": "eR3wMlU7h8Iu",
        "outputId": "9edbb72f-2b69-4b5f-a818-9d6027699444"
      },
      "outputs": [
        {
          "output_type": "stream",
          "name": "stdout",
          "text": [
            "hello world\n"
          ]
        }
      ],
      "source": [
        "print(\"hello world\")"
      ]
    },
    {
      "cell_type": "code",
      "source": [
        "문자= \"안녕하세요\""
      ],
      "metadata": {
        "id": "KqVrGBVXkIx2"
      },
      "execution_count": null,
      "outputs": []
    },
    {
      "cell_type": "code",
      "source": [
        "print(문자)"
      ],
      "metadata": {
        "colab": {
          "base_uri": "https://localhost:8080/"
        },
        "id": "KQjgrHDOjumr",
        "outputId": "084b8f20-c444-47ca-f02f-c0ecbad20c2f"
      },
      "execution_count": null,
      "outputs": [
        {
          "output_type": "stream",
          "name": "stdout",
          "text": [
            "안녕하세요\n"
          ]
        }
      ]
    },
    {
      "cell_type": "code",
      "source": [
        "print(\"\\\"\")"
      ],
      "metadata": {
        "colab": {
          "base_uri": "https://localhost:8080/"
        },
        "id": "ra_VFGTkmR2t",
        "outputId": "011402b7-a760-40a3-d3ac-961d89dbe950"
      },
      "execution_count": null,
      "outputs": [
        {
          "output_type": "stream",
          "name": "stdout",
          "text": [
            "\"\n"
          ]
        }
      ]
    },
    {
      "cell_type": "code",
      "source": [
        "print(\"안녕하세여\")"
      ],
      "metadata": {
        "colab": {
          "base_uri": "https://localhost:8080/"
        },
        "id": "QwdS4efRm6La",
        "outputId": "d92e4e81-202b-4264-b752-12b6b0dd7514"
      },
      "execution_count": null,
      "outputs": [
        {
          "output_type": "stream",
          "name": "stdout",
          "text": [
            "안녕하세야\n"
          ]
        }
      ]
    },
    {
      "cell_type": "code",
      "source": [
        "print(\"안녕하\\n세요\")"
      ],
      "metadata": {
        "colab": {
          "base_uri": "https://localhost:8080/"
        },
        "id": "ZZDdrHt0nOKp",
        "outputId": "46c01460-7cfd-4bc9-c496-1fcb9622def8"
      },
      "execution_count": null,
      "outputs": [
        {
          "output_type": "stream",
          "name": "stdout",
          "text": [
            "안녕하\n",
            "세요\n"
          ]
        }
      ]
    },
    {
      "cell_type": "code",
      "source": [
        "print(\"안녕하\\t세요\")"
      ],
      "metadata": {
        "colab": {
          "base_uri": "https://localhost:8080/"
        },
        "id": "nSkrRPnqna__",
        "outputId": "e3b7fd48-d4d5-4cf9-9f90-4bc4650f5e0c"
      },
      "execution_count": null,
      "outputs": [
        {
          "output_type": "stream",
          "name": "stdout",
          "text": [
            "안녕하\t세요\n"
          ]
        }
      ]
    },
    {
      "cell_type": "code",
      "source": [
        "print(\"안녕\\\\하세요\")"
      ],
      "metadata": {
        "colab": {
          "base_uri": "https://localhost:8080/"
        },
        "id": "hKMtYMFSnj1N",
        "outputId": "65169a8d-3799-4c6f-fd67-cf2579dabb7c"
      },
      "execution_count": null,
      "outputs": [
        {
          "output_type": "stream",
          "name": "stdout",
          "text": [
            "안녕\\하세요\n"
          ]
        }
      ]
    },
    {
      "cell_type": "code",
      "source": [
        "print(\"\\\"\\'\")"
      ],
      "metadata": {
        "colab": {
          "base_uri": "https://localhost:8080/"
        },
        "id": "13iFbW8dnu9m",
        "outputId": "f494a20d-6bdc-476b-c9d0-b8ac88bd1f76"
      },
      "execution_count": null,
      "outputs": [
        {
          "output_type": "stream",
          "name": "stdout",
          "text": [
            "\"'\n"
          ]
        }
      ]
    },
    {
      "cell_type": "code",
      "source": [
        "print(\"\\\\\\\"(\\'.\\')\\\"/\")"
      ],
      "metadata": {
        "colab": {
          "base_uri": "https://localhost:8080/"
        },
        "id": "ZkI_lw6Un4zD",
        "outputId": "2c7bc74c-2f98-4f95-8f09-8899a757a4de"
      },
      "execution_count": null,
      "outputs": [
        {
          "output_type": "stream",
          "name": "stdout",
          "text": [
            "\\\"('.')\"/\n"
          ]
        }
      ]
    },
    {
      "cell_type": "code",
      "source": [
        "print(\"데이터1\",\"데이터2\",\"데이터3\",sep=\"\")"
      ],
      "metadata": {
        "colab": {
          "base_uri": "https://localhost:8080/"
        },
        "id": "0rP7mCZ8p4Dq",
        "outputId": "75280794-043e-446d-f1b4-df6f523322ef"
      },
      "execution_count": null,
      "outputs": [
        {
          "output_type": "stream",
          "name": "stdout",
          "text": [
            "데이터1데이터2데이터3\n"
          ]
        }
      ]
    },
    {
      "cell_type": "code",
      "source": [
        "print(\"데이터1\",\"데이터2\",\"데이터3\",sep=\"\\n\",end=\"끝\")"
      ],
      "metadata": {
        "colab": {
          "base_uri": "https://localhost:8080/"
        },
        "id": "bJ2ZowO4qvLq",
        "outputId": "ddb706b6-6030-489f-a3e8-dce9d89d9da9"
      },
      "execution_count": null,
      "outputs": [
        {
          "output_type": "stream",
          "name": "stdout",
          "text": [
            "데이터1\n",
            "데이터2\n",
            "데이터3끝"
          ]
        }
      ]
    },
    {
      "cell_type": "code",
      "source": [
        "전화번호1= \"010\"\n",
        "전화번호2= \"2310\"\n",
        "전화번호3= \"3085\""
      ],
      "metadata": {
        "id": "G6hQrCcerM4J"
      },
      "execution_count": null,
      "outputs": []
    },
    {
      "cell_type": "code",
      "source": [
        "print(전화번호1,전화번호2,전화번호3,sep=\"-\")"
      ],
      "metadata": {
        "colab": {
          "base_uri": "https://localhost:8080/"
        },
        "id": "IDSGmrFerpSZ",
        "outputId": "7182d1ba-54fa-41d9-c4fb-03b2bd62ed37"
      },
      "execution_count": null,
      "outputs": [
        {
          "output_type": "stream",
          "name": "stdout",
          "text": [
            "010-2310-3085\n"
          ]
        }
      ]
    },
    {
      "cell_type": "code",
      "source": [
        "이름= \"김대은\""
      ],
      "metadata": {
        "id": "B9OWfPMuyhWs"
      },
      "execution_count": null,
      "outputs": []
    },
    {
      "cell_type": "code",
      "source": [
        "print(이름)"
      ],
      "metadata": {
        "colab": {
          "base_uri": "https://localhost:8080/"
        },
        "id": "Zrwdjhd_y1AI",
        "outputId": "fefe729e-260a-452f-a181-8b60610d6b2c"
      },
      "execution_count": null,
      "outputs": [
        {
          "output_type": "stream",
          "name": "stdout",
          "text": [
            "김대은\n"
          ]
        }
      ]
    },
    {
      "cell_type": "code",
      "source": [
        "반= 6"
      ],
      "metadata": {
        "id": "ahuy8l5oy_j-"
      },
      "execution_count": null,
      "outputs": []
    },
    {
      "cell_type": "code",
      "source": [
        "print(반)"
      ],
      "metadata": {
        "colab": {
          "base_uri": "https://localhost:8080/"
        },
        "id": "H20rjxTQzKUJ",
        "outputId": "4976eb95-bd25-49a0-adcf-170b8d22fc09"
      },
      "execution_count": null,
      "outputs": [
        {
          "output_type": "stream",
          "name": "stdout",
          "text": [
            "6\n"
          ]
        }
      ]
    },
    {
      "cell_type": "code",
      "source": [
        "print(type)"
      ],
      "metadata": {
        "colab": {
          "base_uri": "https://localhost:8080/"
        },
        "id": "mltyOqvVzPpq",
        "outputId": "2ede31f8-9bc4-4620-cbec-037af00dc5f4"
      },
      "execution_count": null,
      "outputs": [
        {
          "output_type": "stream",
          "name": "stdout",
          "text": [
            "<class 'type'>\n"
          ]
        }
      ]
    },
    {
      "cell_type": "code",
      "source": [
        "반_데이터타입= type(반)\n",
        "print(반_데이터타입)"
      ],
      "metadata": {
        "colab": {
          "base_uri": "https://localhost:8080/"
        },
        "id": "-VuGOhcdzffK",
        "outputId": "3ab8ccb9-dc3b-4dac-8d20-ce7c1720dc88"
      },
      "execution_count": null,
      "outputs": [
        {
          "output_type": "stream",
          "name": "stdout",
          "text": [
            "<class 'int'>\n"
          ]
        }
      ]
    },
    {
      "cell_type": "code",
      "source": [
        "이름_데이터타입 = type(이름)\n",
        "print(이름_데이터타입)"
      ],
      "metadata": {
        "colab": {
          "base_uri": "https://localhost:8080/"
        },
        "id": "R30TfycEzuvD",
        "outputId": "2ca2eecc-ccd8-4007-80d0-d167498c536d"
      },
      "execution_count": null,
      "outputs": [
        {
          "output_type": "stream",
          "name": "stdout",
          "text": [
            "<class 'str'>\n"
          ]
        }
      ]
    },
    {
      "cell_type": "code",
      "source": [
        "소수=0.5\n",
        "소수_데이터타입= type(소수)\n",
        "print(소수_데이터타입)"
      ],
      "metadata": {
        "colab": {
          "base_uri": "https://localhost:8080/"
        },
        "id": "JbeqerHjz4HP",
        "outputId": "0dc567d7-ddd3-4fbe-9d0f-889912198a38"
      },
      "execution_count": null,
      "outputs": [
        {
          "output_type": "stream",
          "name": "stdout",
          "text": [
            "<class 'float'>\n"
          ]
        }
      ]
    },
    {
      "cell_type": "code",
      "source": [
        "print(0b10)"
      ],
      "metadata": {
        "colab": {
          "base_uri": "https://localhost:8080/"
        },
        "id": "R2yT1Pr80COB",
        "outputId": "c31ef23d-0cb7-4838-dd99-c0a23ccdcc10"
      },
      "execution_count": null,
      "outputs": [
        {
          "output_type": "stream",
          "name": "stdout",
          "text": [
            "2\n"
          ]
        }
      ]
    },
    {
      "cell_type": "code",
      "source": [
        "print(0o10)"
      ],
      "metadata": {
        "colab": {
          "base_uri": "https://localhost:8080/"
        },
        "id": "ZFkZqcmG0pg-",
        "outputId": "4e420583-4912-46e2-d505-564ce19c7df0"
      },
      "execution_count": null,
      "outputs": [
        {
          "output_type": "stream",
          "name": "stdout",
          "text": [
            "8\n"
          ]
        }
      ]
    },
    {
      "cell_type": "code",
      "source": [
        "print(0xb)"
      ],
      "metadata": {
        "colab": {
          "base_uri": "https://localhost:8080/"
        },
        "id": "2LbdAvmL0uTQ",
        "outputId": "ede81383-09bd-4bec-b457-1b2136a8d134"
      },
      "execution_count": null,
      "outputs": [
        {
          "output_type": "stream",
          "name": "stdout",
          "text": [
            "11\n"
          ]
        }
      ]
    },
    {
      "cell_type": "code",
      "source": [
        "print(10+5)"
      ],
      "metadata": {
        "colab": {
          "base_uri": "https://localhost:8080/"
        },
        "id": "5xc8-XIG0xkB",
        "outputId": "9ed3e03c-63b8-43d7-85a3-4344141759d1"
      },
      "execution_count": null,
      "outputs": [
        {
          "output_type": "stream",
          "name": "stdout",
          "text": [
            "15\n"
          ]
        }
      ]
    },
    {
      "cell_type": "code",
      "source": [
        "print(10-5)"
      ],
      "metadata": {
        "colab": {
          "base_uri": "https://localhost:8080/"
        },
        "id": "oHYbILo51MC_",
        "outputId": "4dd68b6e-fdfe-43b5-8631-0b32e7f3d216"
      },
      "execution_count": null,
      "outputs": [
        {
          "output_type": "stream",
          "name": "stdout",
          "text": [
            "5\n"
          ]
        }
      ]
    },
    {
      "cell_type": "code",
      "source": [
        "print(10/2)"
      ],
      "metadata": {
        "colab": {
          "base_uri": "https://localhost:8080/"
        },
        "id": "uYbMBvM-1PHl",
        "outputId": "5cc8a871-9007-4148-979c-74c84f2c60b2"
      },
      "execution_count": null,
      "outputs": [
        {
          "output_type": "stream",
          "name": "stdout",
          "text": [
            "5.0\n"
          ]
        }
      ]
    },
    {
      "cell_type": "code",
      "source": [
        "print(10*2)"
      ],
      "metadata": {
        "colab": {
          "base_uri": "https://localhost:8080/"
        },
        "id": "gxX1v0_q1SKU",
        "outputId": "9bc4b76e-4a1a-41fa-c098-9889988388f6"
      },
      "execution_count": null,
      "outputs": [
        {
          "output_type": "stream",
          "name": "stdout",
          "text": [
            "20\n"
          ]
        }
      ]
    },
    {
      "cell_type": "code",
      "source": [
        "print(2**3)"
      ],
      "metadata": {
        "colab": {
          "base_uri": "https://localhost:8080/"
        },
        "id": "vbAe214V1WEC",
        "outputId": "499e5376-4510-41bb-e766-2a7f6ba58ae6"
      },
      "execution_count": null,
      "outputs": [
        {
          "output_type": "stream",
          "name": "stdout",
          "text": [
            "8\n"
          ]
        }
      ]
    },
    {
      "cell_type": "code",
      "source": [
        "print(15%10)"
      ],
      "metadata": {
        "colab": {
          "base_uri": "https://localhost:8080/"
        },
        "id": "unYjifvq1nQR",
        "outputId": "eb31fae1-6591-4087-8241-5e852db17794"
      },
      "execution_count": null,
      "outputs": [
        {
          "output_type": "stream",
          "name": "stdout",
          "text": [
            "5\n"
          ]
        }
      ]
    },
    {
      "cell_type": "code",
      "source": [
        "print(15//10)"
      ],
      "metadata": {
        "colab": {
          "base_uri": "https://localhost:8080/"
        },
        "id": "4h5oKjp410pB",
        "outputId": "b76e8e5e-6630-4cc5-facd-c8c303dab1bf"
      },
      "execution_count": null,
      "outputs": [
        {
          "output_type": "stream",
          "name": "stdout",
          "text": [
            "1\n"
          ]
        }
      ]
    },
    {
      "cell_type": "code",
      "source": [
        "문자열= \"문자열내용\"\n",
        "문자열2=\"문자열내용2\"\n",
        "문자열3=\"문자열내용3\"\n",
        "문자열4=\"문자열내용4\"\n",
        "print(문자열)\n",
        "print(문자열2)\n",
        "print(문자열3)\n",
        "print(문자열4)"
      ],
      "metadata": {
        "colab": {
          "base_uri": "https://localhost:8080/"
        },
        "id": "t57f7UhB1-Ww",
        "outputId": "1ee17e9c-cb6a-49ee-fb80-702f255407de"
      },
      "execution_count": null,
      "outputs": [
        {
          "output_type": "stream",
          "name": "stdout",
          "text": [
            "문자열 내용\n",
            "문자열 내용2\n",
            "문자열 내용3\n",
            " 문자열 내용4\n"
          ]
        }
      ]
    },
    {
      "cell_type": "code",
      "source": [
        "print(문자열+문자열2)\n"
      ],
      "metadata": {
        "colab": {
          "base_uri": "https://localhost:8080/"
        },
        "id": "gWr5YY_i3SQY",
        "outputId": "becb4730-dc3e-4696-ee7d-f3190f2015dc"
      },
      "execution_count": null,
      "outputs": [
        {
          "output_type": "stream",
          "name": "stdout",
          "text": [
            "문자열 내용문자열 내용2\n"
          ]
        }
      ]
    },
    {
      "cell_type": "code",
      "source": [
        "이름 = \"김대은\"\n",
        "인사= \"안녕하세요\"\n",
        "인삿말=인사+\" \"+\"저는\" +이름+\"입니다\\n\"\n",
        "print(인삿말)\n"
      ],
      "metadata": {
        "colab": {
          "base_uri": "https://localhost:8080/"
        },
        "id": "BnA4aTod3fM6",
        "outputId": "8b27f349-3bd4-4117-9f62-086c4aedf5bf"
      },
      "execution_count": null,
      "outputs": [
        {
          "output_type": "stream",
          "name": "stdout",
          "text": [
            "안녕하세요 저는김대은입니다\n",
            "\n"
          ]
        }
      ]
    },
    {
      "cell_type": "code",
      "source": [
        "\n",
        "print(인삿말*100)"
      ],
      "metadata": {
        "colab": {
          "base_uri": "https://localhost:8080/"
        },
        "id": "vAmkrT_84Zj6",
        "outputId": "7afc0492-054a-4ac3-e516-9d2c80c17442"
      },
      "execution_count": null,
      "outputs": [
        {
          "output_type": "stream",
          "name": "stdout",
          "text": [
            "안녕하세요 저는김대은입니다\n",
            "안녕하세요 저는김대은입니다\n",
            "안녕하세요 저는김대은입니다\n",
            "안녕하세요 저는김대은입니다\n",
            "안녕하세요 저는김대은입니다\n",
            "안녕하세요 저는김대은입니다\n",
            "안녕하세요 저는김대은입니다\n",
            "안녕하세요 저는김대은입니다\n",
            "안녕하세요 저는김대은입니다\n",
            "안녕하세요 저는김대은입니다\n",
            "안녕하세요 저는김대은입니다\n",
            "안녕하세요 저는김대은입니다\n",
            "안녕하세요 저는김대은입니다\n",
            "안녕하세요 저는김대은입니다\n",
            "안녕하세요 저는김대은입니다\n",
            "안녕하세요 저는김대은입니다\n",
            "안녕하세요 저는김대은입니다\n",
            "안녕하세요 저는김대은입니다\n",
            "안녕하세요 저는김대은입니다\n",
            "안녕하세요 저는김대은입니다\n",
            "안녕하세요 저는김대은입니다\n",
            "안녕하세요 저는김대은입니다\n",
            "안녕하세요 저는김대은입니다\n",
            "안녕하세요 저는김대은입니다\n",
            "안녕하세요 저는김대은입니다\n",
            "안녕하세요 저는김대은입니다\n",
            "안녕하세요 저는김대은입니다\n",
            "안녕하세요 저는김대은입니다\n",
            "안녕하세요 저는김대은입니다\n",
            "안녕하세요 저는김대은입니다\n",
            "안녕하세요 저는김대은입니다\n",
            "안녕하세요 저는김대은입니다\n",
            "안녕하세요 저는김대은입니다\n",
            "안녕하세요 저는김대은입니다\n",
            "안녕하세요 저는김대은입니다\n",
            "안녕하세요 저는김대은입니다\n",
            "안녕하세요 저는김대은입니다\n",
            "안녕하세요 저는김대은입니다\n",
            "안녕하세요 저는김대은입니다\n",
            "안녕하세요 저는김대은입니다\n",
            "안녕하세요 저는김대은입니다\n",
            "안녕하세요 저는김대은입니다\n",
            "안녕하세요 저는김대은입니다\n",
            "안녕하세요 저는김대은입니다\n",
            "안녕하세요 저는김대은입니다\n",
            "안녕하세요 저는김대은입니다\n",
            "안녕하세요 저는김대은입니다\n",
            "안녕하세요 저는김대은입니다\n",
            "안녕하세요 저는김대은입니다\n",
            "안녕하세요 저는김대은입니다\n",
            "안녕하세요 저는김대은입니다\n",
            "안녕하세요 저는김대은입니다\n",
            "안녕하세요 저는김대은입니다\n",
            "안녕하세요 저는김대은입니다\n",
            "안녕하세요 저는김대은입니다\n",
            "안녕하세요 저는김대은입니다\n",
            "안녕하세요 저는김대은입니다\n",
            "안녕하세요 저는김대은입니다\n",
            "안녕하세요 저는김대은입니다\n",
            "안녕하세요 저는김대은입니다\n",
            "안녕하세요 저는김대은입니다\n",
            "안녕하세요 저는김대은입니다\n",
            "안녕하세요 저는김대은입니다\n",
            "안녕하세요 저는김대은입니다\n",
            "안녕하세요 저는김대은입니다\n",
            "안녕하세요 저는김대은입니다\n",
            "안녕하세요 저는김대은입니다\n",
            "안녕하세요 저는김대은입니다\n",
            "안녕하세요 저는김대은입니다\n",
            "안녕하세요 저는김대은입니다\n",
            "안녕하세요 저는김대은입니다\n",
            "안녕하세요 저는김대은입니다\n",
            "안녕하세요 저는김대은입니다\n",
            "안녕하세요 저는김대은입니다\n",
            "안녕하세요 저는김대은입니다\n",
            "안녕하세요 저는김대은입니다\n",
            "안녕하세요 저는김대은입니다\n",
            "안녕하세요 저는김대은입니다\n",
            "안녕하세요 저는김대은입니다\n",
            "안녕하세요 저는김대은입니다\n",
            "안녕하세요 저는김대은입니다\n",
            "안녕하세요 저는김대은입니다\n",
            "안녕하세요 저는김대은입니다\n",
            "안녕하세요 저는김대은입니다\n",
            "안녕하세요 저는김대은입니다\n",
            "안녕하세요 저는김대은입니다\n",
            "안녕하세요 저는김대은입니다\n",
            "안녕하세요 저는김대은입니다\n",
            "안녕하세요 저는김대은입니다\n",
            "안녕하세요 저는김대은입니다\n",
            "안녕하세요 저는김대은입니다\n",
            "안녕하세요 저는김대은입니다\n",
            "안녕하세요 저는김대은입니다\n",
            "안녕하세요 저는김대은입니다\n",
            "안녕하세요 저는김대은입니다\n",
            "안녕하세요 저는김대은입니다\n",
            "안녕하세요 저는김대은입니다\n",
            "안녕하세요 저는김대은입니다\n",
            "안녕하세요 저는김대은입니다\n",
            "안녕하세요 저는김대은입니다\n",
            "\n"
          ]
        }
      ]
    },
    {
      "cell_type": "code",
      "source": [
        "이름길이 = len(이름)\n",
        "print(이름) "
      ],
      "metadata": {
        "colab": {
          "base_uri": "https://localhost:8080/"
        },
        "id": "w8UKK_AR4gH2",
        "outputId": "ff5e3b30-3be7-4e0e-e133-577141f1a5da"
      },
      "execution_count": null,
      "outputs": [
        {
          "output_type": "stream",
          "name": "stdout",
          "text": [
            "김대은\n"
          ]
        }
      ]
    },
    {
      "cell_type": "code",
      "source": [
        "print([1,2,3,4,5])"
      ],
      "metadata": {
        "colab": {
          "base_uri": "https://localhost:8080/"
        },
        "id": "U8BxdvPD87xX",
        "outputId": "5543621a-f1b1-42e7-8731-35b1f2eff40d"
      },
      "execution_count": null,
      "outputs": [
        {
          "output_type": "stream",
          "name": "stdout",
          "text": [
            "[1, 2, 3, 4, 5]\n"
          ]
        }
      ]
    },
    {
      "cell_type": "code",
      "source": [
        "배열=[-1,10.2,\"이름\",[1,2,3,]]\n",
        "print(배열)"
      ],
      "metadata": {
        "colab": {
          "base_uri": "https://localhost:8080/"
        },
        "id": "1ekajTb59OQA",
        "outputId": "70c9356b-ec93-4305-96d7-1221f0daa8eb"
      },
      "execution_count": null,
      "outputs": [
        {
          "output_type": "stream",
          "name": "stdout",
          "text": [
            "[-1, 10.2, '이름', [1, 2, 3]]\n"
          ]
        }
      ]
    },
    {
      "cell_type": "code",
      "source": [
        "print(배열[0])\n",
        "print(배열[2])\n",
        "print(배열[3])\n"
      ],
      "metadata": {
        "colab": {
          "base_uri": "https://localhost:8080/"
        },
        "id": "QTigdruw9ePx",
        "outputId": "e042c208-f405-446e-bb13-52723deb3fb4"
      },
      "execution_count": null,
      "outputs": [
        {
          "output_type": "stream",
          "name": "stdout",
          "text": [
            "-1\n",
            "이름\n",
            "[1, 2, 3]\n"
          ]
        }
      ]
    },
    {
      "cell_type": "code",
      "source": [
        "print(배열[3][1])"
      ],
      "metadata": {
        "colab": {
          "base_uri": "https://localhost:8080/"
        },
        "id": "xhsPeYmo9lL4",
        "outputId": "6c40d211-6654-4f8d-b16e-9a5159e8ecdf"
      },
      "execution_count": null,
      "outputs": [
        {
          "output_type": "stream",
          "name": "stdout",
          "text": [
            "2\n"
          ]
        }
      ]
    },
    {
      "cell_type": "code",
      "source": [
        "배열[-1]=10\n",
        "print() "
      ],
      "metadata": {
        "colab": {
          "base_uri": "https://localhost:8080/"
        },
        "id": "Xzko2Zre-3--",
        "outputId": "d679a372-a1e3-46f2-8550-edc1e594f76f"
      },
      "execution_count": null,
      "outputs": [
        {
          "output_type": "stream",
          "name": "stdout",
          "text": [
            "\n"
          ]
        }
      ]
    },
    {
      "cell_type": "code",
      "source": [
        "배열[:][-1] = [1,2,3]\n",
        "print(배열)"
      ],
      "metadata": {
        "colab": {
          "base_uri": "https://localhost:8080/"
        },
        "id": "9HlajbZS_glY",
        "outputId": "28b1ad13-8b62-4680-c6a7-737f9747000d"
      },
      "execution_count": null,
      "outputs": [
        {
          "output_type": "stream",
          "name": "stdout",
          "text": [
            "[1, 2, 3]\n"
          ]
        }
      ]
    },
    {
      "cell_type": "code",
      "source": [
        "문제= \"01033334444\"\n",
        "print(len(문제[:-4])*\"*\"+문제[-4:])"
      ],
      "metadata": {
        "colab": {
          "base_uri": "https://localhost:8080/"
        },
        "id": "9CPs8cA1_0E3",
        "outputId": "580154f6-0f9b-4620-861f-adc81fb0ac07"
      },
      "execution_count": null,
      "outputs": [
        {
          "output_type": "stream",
          "name": "stdout",
          "text": [
            "*******4444\n"
          ]
        }
      ]
    },
    {
      "cell_type": "code",
      "source": [
        ""
      ],
      "metadata": {
        "id": "CfIDx_StIiJj"
      },
      "execution_count": null,
      "outputs": []
    }
  ]
}