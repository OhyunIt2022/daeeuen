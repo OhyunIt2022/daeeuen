{
  "nbformat": 4,
  "nbformat_minor": 0,
  "metadata": {
    "colab": {
      "name": "0727.ipynb",
      "provenance": [],
      "collapsed_sections": []
    },
    "kernelspec": {
      "name": "python3",
      "display_name": "Python 3"
    },
    "language_info": {
      "name": "python"
    }
  },
  "cells": [
    {
      "cell_type": "code",
      "execution_count": 4,
      "metadata": {
        "id": "DhsKXZeCABdb",
        "colab": {
          "base_uri": "https://localhost:8080/"
        },
        "outputId": "4407c2e8-a5bd-49cc-8797-8f18adfe608d"
      },
      "outputs": [
        {
          "output_type": "stream",
          "name": "stdout",
          "text": [
            "사칙연산 기호(+ - * /)를 입력해주세요*\n",
            "첫번째숫자를 입력해주세요9\n",
            "두번째숫자를 입력해주세요9\n",
            "곱하기입니다.\n",
            "81\n",
            "종료하려면 1을 입력해주세요1\n",
            "종료합니다.\n"
          ]
        }
      ],
      "source": [
        "while True:\n",
        "    # 입력값 받기\n",
        "    사칙연산 = input(\"사칙연산 기호(+ - * /)를 입력해주세요\")\n",
        "    첫번째숫자 = int(input(\"첫번째숫자를 입력해주세요\"))\n",
        "    두번째숫자 = int(input(\"두번째숫자를 입력해주세요\"))\n",
        "    # 계산 및 출력\n",
        "    if 사칙연산==\"+\":\n",
        "        print(\"더하기입니다.\")\n",
        "        print(첫번째숫자+두번째숫자)\n",
        "    elif 사칙연산==\"-\":\n",
        "        print(\"빼기입니다.\")\n",
        "        print(첫번째숫자-두번째숫자)\n",
        "    elif 사칙연산==\"*\":\n",
        "        print(\"곱하기입니다.\")\n",
        "        print(첫번째숫자*두번째숫자)\n",
        "    elif 사칙연산==\"/\":\n",
        "        print(\"나누기입니다.\")\n",
        "        print(첫번째숫자/두번째숫자)\n",
        "    # 종료 여부 확인 후 종료\n",
        "    종료여부 = input(\"종료하려면 1을 입력해주세요\")\n",
        "    if 종료여부==\"1\":\n",
        "        print(\"종료합니다.\")\n",
        "        break\n",
        "                      "
      ]
    },
    {
      "cell_type": "code",
      "source": [
        "def hello():\n",
        "  print(\"안녕하세요\")"
      ],
      "metadata": {
        "id": "aSov_xNWHKhs"
      },
      "execution_count": 5,
      "outputs": []
    },
    {
      "cell_type": "code",
      "source": [
        "hello()"
      ],
      "metadata": {
        "colab": {
          "base_uri": "https://localhost:8080/"
        },
        "id": "kT_L8IuWLInf",
        "outputId": "b89a7fc1-85d9-4875-e91e-fc52710d3849"
      },
      "execution_count": 6,
      "outputs": [
        {
          "output_type": "stream",
          "name": "stdout",
          "text": [
            "안녕하세요\n"
          ]
        }
      ]
    },
    {
      "cell_type": "code",
      "source": [
        "def helloToName(name):\n",
        "  print(name,\"님 안녕하새요\")\n",
        "  "
      ],
      "metadata": {
        "id": "hUz5UjSZLMfb"
      },
      "execution_count": 7,
      "outputs": []
    },
    {
      "cell_type": "code",
      "source": [
        "helloToName(\"김대은\")"
      ],
      "metadata": {
        "colab": {
          "base_uri": "https://localhost:8080/"
        },
        "id": "SwT6f3lWLhUG",
        "outputId": "7fc47358-085a-4cb2-b37c-3a303de676a3"
      },
      "execution_count": 9,
      "outputs": [
        {
          "output_type": "stream",
          "name": "stdout",
          "text": [
            "김대은 님 안녕하새요\n"
          ]
        }
      ]
    },
    {
      "cell_type": "code",
      "source": [
        "def add(num,num2):\n",
        "  result = num + num2"
      ],
      "metadata": {
        "id": "OJFietU8LkeY"
      },
      "execution_count": 10,
      "outputs": []
    },
    {
      "cell_type": "code",
      "source": [
        "add(1,2)"
      ],
      "metadata": {
        "id": "Uk_sotOQL4vm"
      },
      "execution_count": 11,
      "outputs": []
    },
    {
      "cell_type": "code",
      "source": [
        "addResult = add(1,2)"
      ],
      "metadata": {
        "id": "MtJqZkaKL6fh"
      },
      "execution_count": 12,
      "outputs": []
    },
    {
      "cell_type": "code",
      "source": [
        "print(addResult)"
      ],
      "metadata": {
        "colab": {
          "base_uri": "https://localhost:8080/"
        },
        "id": "uuaGETM-MEKK",
        "outputId": "fd9bf362-bc3e-4712-ce78-3650f691b5ae"
      },
      "execution_count": 13,
      "outputs": [
        {
          "output_type": "stream",
          "name": "stdout",
          "text": [
            "None\n"
          ]
        }
      ]
    },
    {
      "cell_type": "code",
      "source": [
        "def add2(num,num2):\n",
        "  result = num + num2\n",
        "  return result"
      ],
      "metadata": {
        "id": "2-LfejzFMGnA"
      },
      "execution_count": 18,
      "outputs": []
    },
    {
      "cell_type": "code",
      "source": [
        "addResult2 = add2(1,2)\n",
        "print(addResult2)"
      ],
      "metadata": {
        "colab": {
          "base_uri": "https://localhost:8080/"
        },
        "id": "_2Sq1ZR7MQxh",
        "outputId": "dd92ea96-92c1-409c-c554-9e7c31e58554"
      },
      "execution_count": 19,
      "outputs": [
        {
          "output_type": "stream",
          "name": "stdout",
          "text": [
            "3\n"
          ]
        }
      ]
    },
    {
      "cell_type": "code",
      "source": [
        "def x빼기y(y,x):\n",
        "  뺄셈결과 = x-y\n",
        "  print(뺄셈결과)\n",
        "x빼기y(20,10)  \n",
        "x빼기y(x=20,y=10)"
      ],
      "metadata": {
        "colab": {
          "base_uri": "https://localhost:8080/"
        },
        "id": "8orYh4TvNzk0",
        "outputId": "24586bda-cb59-4c4d-ba40-06d654bd0b1a"
      },
      "execution_count": 22,
      "outputs": [
        {
          "output_type": "stream",
          "name": "stdout",
          "text": [
            "-10\n",
            "10\n"
          ]
        }
      ]
    },
    {
      "cell_type": "code",
      "source": [
        "def 덧셈뺄셈(x,y):\n",
        "    덧셈결과 = x+y\n",
        "    뺄셈결과 = x-y\n",
        "    return 덧셈결과, 뺄셈결과"
      ],
      "metadata": {
        "id": "MdPFR7CnOjnh"
      },
      "execution_count": 26,
      "outputs": []
    },
    {
      "cell_type": "code",
      "source": [
        "함수실행결과 = 덧셈뺄셈(20,10)"
      ],
      "metadata": {
        "id": "bO8GDiUiTIYG"
      },
      "execution_count": 27,
      "outputs": []
    },
    {
      "cell_type": "code",
      "source": [
        "print(함수실행결과)"
      ],
      "metadata": {
        "colab": {
          "base_uri": "https://localhost:8080/"
        },
        "id": "BM2iw20mTrWv",
        "outputId": "cea7c576-69eb-4ba1-ca43-4018b075e015"
      },
      "execution_count": 40,
      "outputs": [
        {
          "output_type": "stream",
          "name": "stdout",
          "text": [
            "(30, 10)\n"
          ]
        }
      ]
    },
    {
      "cell_type": "code",
      "source": [
        "print(type(함수실행결과))"
      ],
      "metadata": {
        "colab": {
          "base_uri": "https://localhost:8080/"
        },
        "id": "C2Nge9yDTv90",
        "outputId": "f8492e35-9048-4eed-e4d7-a1cdb1c33aad"
      },
      "execution_count": 41,
      "outputs": [
        {
          "output_type": "stream",
          "name": "stdout",
          "text": [
            "<class 'tuple'>\n"
          ]
        }
      ]
    },
    {
      "cell_type": "code",
      "source": [
        "\n",
        "print(함수실행결과[0],함수실행결과[1])"
      ],
      "metadata": {
        "colab": {
          "base_uri": "https://localhost:8080/"
        },
        "id": "xXRlLSlgUKpX",
        "outputId": "4383061b-aa58-46fa-f241-ca7420b91ade"
      },
      "execution_count": 42,
      "outputs": [
        {
          "output_type": "stream",
          "name": "stdout",
          "text": [
            "30 10\n"
          ]
        }
      ]
    },
    {
      "cell_type": "code",
      "source": [
        "덧셈결과=함수실행결과"
      ],
      "metadata": {
        "id": "6WtnljdAUUkF"
      },
      "execution_count": 43,
      "outputs": []
    },
    {
      "cell_type": "code",
      "source": [
        "뺄셈결과=함수실행결과[1]"
      ],
      "metadata": {
        "id": "fIbK55w5UaU-"
      },
      "execution_count": 44,
      "outputs": []
    },
    {
      "cell_type": "code",
      "source": [
        "print(덧셈결과)\n",
        "print(뺄셈결과)"
      ],
      "metadata": {
        "colab": {
          "base_uri": "https://localhost:8080/"
        },
        "id": "8qRIhEkbUdyN",
        "outputId": "8266924a-4957-4dd1-b63e-cd7152d7fdb5"
      },
      "execution_count": 45,
      "outputs": [
        {
          "output_type": "stream",
          "name": "stdout",
          "text": [
            "(30, 10)\n",
            "10\n"
          ]
        }
      ]
    },
    {
      "cell_type": "code",
      "source": [
        "튜플값1,튜플값2 = (1,2,)\n",
        "print(튜플값1)"
      ],
      "metadata": {
        "colab": {
          "base_uri": "https://localhost:8080/"
        },
        "id": "sMuz0c1KUnNF",
        "outputId": "a54be9b7-357e-4168-9849-5ae51660fea3"
      },
      "execution_count": 46,
      "outputs": [
        {
          "output_type": "stream",
          "name": "stdout",
          "text": [
            "1\n"
          ]
        }
      ]
    },
    {
      "cell_type": "code",
      "source": [
        "덧셈결과,뺄셈결과 = 덧셈뺄셈(20,10)\n",
        "print(덧셈결과)\n",
        "print(뺄셈결과)"
      ],
      "metadata": {
        "colab": {
          "base_uri": "https://localhost:8080/"
        },
        "id": "n3fgBF5ZU052",
        "outputId": "058cf78a-da8b-47e9-e469-943a211e7404"
      },
      "execution_count": 47,
      "outputs": [
        {
          "output_type": "stream",
          "name": "stdout",
          "text": [
            "30\n",
            "10\n"
          ]
        }
      ]
    },
    {
      "cell_type": "code",
      "source": [
        "def 값입력하기():\n",
        "   사칙연산 = input(\"사칙연산 기호(+ - * /)를 입력해주세요\")\n",
        "   첫번째숫자 = int(input(\"첫번째숫자를 입력해주세요\"))\n",
        "   두번째숫자 = int(input(\"두번째숫자를 입력해주세요\"))\n",
        "   return 사칙연산, 첫번째숫자, 두번째숫자\n"
      ],
      "metadata": {
        "id": "khWnyI41VLHh"
      },
      "execution_count": 48,
      "outputs": []
    },
    {
      "cell_type": "code",
      "source": [
        "사칙연산 , 첫번째숫자 , 두번째숫자 = 값입력하기()\n"
      ],
      "metadata": {
        "colab": {
          "base_uri": "https://localhost:8080/"
        },
        "id": "WYTNimWBVLl1",
        "outputId": "0f4ad289-e194-4097-f830-28c71a8e479b"
      },
      "execution_count": 49,
      "outputs": [
        {
          "name": "stdout",
          "output_type": "stream",
          "text": [
            "사칙연산 기호(+ - * /)를 입력해주세요*\n",
            "첫번째숫자를 입력해주세요8\n",
            "두번째숫자를 입력해주세요5\n"
          ]
        }
      ]
    },
    {
      "cell_type": "code",
      "source": [
        "print(사칙연산, 첫번째숫자,두번째숫자)"
      ],
      "metadata": {
        "colab": {
          "base_uri": "https://localhost:8080/"
        },
        "id": "pUVa_xpzWNR4",
        "outputId": "89edac4c-7035-4989-a897-f1633aae20a5"
      },
      "execution_count": 50,
      "outputs": [
        {
          "output_type": "stream",
          "name": "stdout",
          "text": [
            "* 8 5\n"
          ]
        }
      ]
    },
    {
      "cell_type": "code",
      "source": [
        "def 계산및출력(사칙연산,첫번째숫자,두번째숫자):\n",
        "      if 사칙연산==\"+\":\n",
        "        print(\"더하기입니다.\")\n",
        "        print(첫번째숫자+두번째숫자)\n",
        "      elif 사칙연산==\"-\":\n",
        "        print(\"빼기입니다.\")\n",
        "        print(첫번째숫자-두번째숫자)\n",
        "      elif 사칙연산==\"*\":\n",
        "        print(\"곱하기입니다.\")\n",
        "        print(첫번째숫자*두번째숫자)\n",
        "      elif 사칙연산==\"/\":\n",
        "        print(\"나누기입니다.\")\n",
        "        print(첫번째숫자/두번째숫자)\n"
      ],
      "metadata": {
        "id": "7ZVvfBkHWn1s"
      },
      "execution_count": 53,
      "outputs": []
    },
    {
      "cell_type": "code",
      "source": [
        "계산및출력(사칙연산=\"+\",첫번째숫자=10,두번째숫자=20)"
      ],
      "metadata": {
        "colab": {
          "base_uri": "https://localhost:8080/"
        },
        "id": "GZPypBiBXMyx",
        "outputId": "7e8c1b90-7e93-4e60-e4f2-a70af5809413"
      },
      "execution_count": 54,
      "outputs": [
        {
          "output_type": "stream",
          "name": "stdout",
          "text": [
            "더하기입니다.\n",
            "30\n"
          ]
        }
      ]
    },
    {
      "cell_type": "code",
      "source": [
        "def 종료여부확인():\n",
        "  종료여부= input(\"종료하려면 1을 입력하세요\")\n",
        "  return 종료여부==\"1\"\n",
        "    "
      ],
      "metadata": {
        "id": "xEdr3JpJXcdG"
      },
      "execution_count": 55,
      "outputs": []
    },
    {
      "cell_type": "code",
      "source": [
        "종료여부확인()"
      ],
      "metadata": {
        "colab": {
          "base_uri": "https://localhost:8080/"
        },
        "id": "_0c5YySuXwXd",
        "outputId": "fcef1ad9-7f2e-4ccb-bb5d-ac2d10e3afec"
      },
      "execution_count": 56,
      "outputs": [
        {
          "name": "stdout",
          "output_type": "stream",
          "text": [
            "종료하려면 1을 입력하세요1\n"
          ]
        },
        {
          "output_type": "execute_result",
          "data": {
            "text/plain": [
              "True"
            ]
          },
          "metadata": {},
          "execution_count": 56
        }
      ]
    },
    {
      "cell_type": "code",
      "source": [
        "def 계산기():\n",
        "  while True :\n",
        "    기호,첫번째숫자,두번째숫자 = 값입력하기()\n",
        "    계산및출력(기호,첫번째숫자,두번째숫자)\n",
        "    종료여부 = 종료여부확인()\n",
        "    if 종료여부:\n",
        "        break"
      ],
      "metadata": {
        "id": "0kSIML3KXyXf"
      },
      "execution_count": 63,
      "outputs": []
    },
    {
      "cell_type": "code",
      "source": [
        "계산기()"
      ],
      "metadata": {
        "colab": {
          "base_uri": "https://localhost:8080/"
        },
        "id": "SPWOF6rFZny4",
        "outputId": "2187f5a6-1b44-4646-8e6b-263f2d0fdf27"
      },
      "execution_count": 64,
      "outputs": [
        {
          "name": "stdout",
          "output_type": "stream",
          "text": [
            "사칙연산 기호(+ - * /)를 입력해주세요*\n",
            "첫번째숫자를 입력해주세요8\n",
            "두번째숫자를 입력해주세요4\n",
            "곱하기입니다.\n",
            "32\n",
            "종료하려면 1을 입력하세요1\n"
          ]
        }
      ]
    },
    {
      "cell_type": "code",
      "source": [
        "string = \"hello\"\n",
        "print(type(string))"
      ],
      "metadata": {
        "colab": {
          "base_uri": "https://localhost:8080/"
        },
        "id": "D43TW-A6Z2zK",
        "outputId": "d72c1a6a-a404-43c2-e324-c8b4e10d8de6"
      },
      "execution_count": 66,
      "outputs": [
        {
          "output_type": "stream",
          "name": "stdout",
          "text": [
            "<class 'str'>\n"
          ]
        }
      ]
    },
    {
      "cell_type": "code",
      "source": [
        "class Animal:\n",
        "  pass"
      ],
      "metadata": {
        "id": "k6353PktjC_h"
      },
      "execution_count": 70,
      "outputs": []
    },
    {
      "cell_type": "code",
      "source": [
        "animal= Animal()\n",
        "print(type(animal))"
      ],
      "metadata": {
        "colab": {
          "base_uri": "https://localhost:8080/"
        },
        "id": "_9cB-HvTjfOU",
        "outputId": "05f47190-88ac-4e7d-fe27-669d0ee6be38"
      },
      "execution_count": 71,
      "outputs": [
        {
          "output_type": "stream",
          "name": "stdout",
          "text": [
            "<class '__main__.Animal'>\n"
          ]
        }
      ]
    },
    {
      "cell_type": "code",
      "source": [
        "class Animal :\n",
        "  kor= \"동물\"\n",
        "  def 숨쉬기():\n",
        "    print('숨을 쉽니다')\n",
        "  def 움직이기():\n",
        "    print('몸을 움직입니다')  "
      ],
      "metadata": {
        "id": "cz_VhO5xkAdb"
      },
      "execution_count": 81,
      "outputs": []
    },
    {
      "cell_type": "code",
      "source": [
        "개=Animal()\n",
        "print(type(개))\n",
        "Animal.숨쉬기()\n",
        "Animal.움직이기()\n",
        "print(\"==============\")\n",
        "개.숨쉬기()\n",
        "개.움직이기()"
      ],
      "metadata": {
        "colab": {
          "base_uri": "https://localhost:8080/",
          "height": 300
        },
        "id": "R4bzsNMzkcYD",
        "outputId": "51868d0e-1889-4929-aebd-27d45ce4a5a7"
      },
      "execution_count": 82,
      "outputs": [
        {
          "output_type": "stream",
          "name": "stdout",
          "text": [
            "<class '__main__.Animal'>\n",
            "숨을 쉽니다\n",
            "몸을 움직입니다\n",
            "==============\n"
          ]
        },
        {
          "output_type": "error",
          "ename": "TypeError",
          "evalue": "ignored",
          "traceback": [
            "\u001b[0;31m---------------------------------------------------------------------------\u001b[0m",
            "\u001b[0;31mTypeError\u001b[0m                                 Traceback (most recent call last)",
            "\u001b[0;32m<ipython-input-82-4b0cd2176fd1>\u001b[0m in \u001b[0;36m<module>\u001b[0;34m()\u001b[0m\n\u001b[1;32m      4\u001b[0m \u001b[0mAnimal\u001b[0m\u001b[0;34m.\u001b[0m\u001b[0m움직이기\u001b[0m\u001b[0;34m(\u001b[0m\u001b[0;34m)\u001b[0m\u001b[0;34m\u001b[0m\u001b[0;34m\u001b[0m\u001b[0m\n\u001b[1;32m      5\u001b[0m \u001b[0mprint\u001b[0m\u001b[0;34m(\u001b[0m\u001b[0;34m\"==============\"\u001b[0m\u001b[0;34m)\u001b[0m\u001b[0;34m\u001b[0m\u001b[0;34m\u001b[0m\u001b[0m\n\u001b[0;32m----> 6\u001b[0;31m \u001b[0m개\u001b[0m\u001b[0;34m.\u001b[0m\u001b[0m숨쉬기\u001b[0m\u001b[0;34m(\u001b[0m\u001b[0;34m)\u001b[0m\u001b[0;34m\u001b[0m\u001b[0;34m\u001b[0m\u001b[0m\n\u001b[0m\u001b[1;32m      7\u001b[0m \u001b[0m개\u001b[0m\u001b[0;34m.\u001b[0m\u001b[0m움직이기\u001b[0m\u001b[0;34m(\u001b[0m\u001b[0;34m)\u001b[0m\u001b[0;34m\u001b[0m\u001b[0;34m\u001b[0m\u001b[0m\n",
            "\u001b[0;31mTypeError\u001b[0m: 숨쉬기() takes 0 positional arguments but 1 was given"
          ]
        }
      ]
    },
    {
      "cell_type": "code",
      "source": [
        "class Animal :\n",
        "  kor= \"동물\"\n",
        "  def 숨쉬기(self):\n",
        "    print('숨을 쉽니다')\n",
        "  def 움직이기(self):\n",
        "    print('몸을 움직입니다')  \n",
        "  def 말하기( self,문장):\n",
        "    print(문장)\n",
        "animal = Animal()\n",
        "animal.숨쉬기()\n",
        "animal.움직이기()\n",
        "animal.말하기('안녕하세요')\n",
        "print(animal.kor)  "
      ],
      "metadata": {
        "colab": {
          "base_uri": "https://localhost:8080/"
        },
        "id": "LtFBQRkgk5Li",
        "outputId": "b8a8951c-d692-4def-8c06-4c99b0dc0ae3"
      },
      "execution_count": 83,
      "outputs": [
        {
          "output_type": "stream",
          "name": "stdout",
          "text": [
            "숨을 쉽니다\n",
            "몸을 움직입니다\n",
            "안녕하세요\n",
            "동물\n"
          ]
        }
      ]
    },
    {
      "cell_type": "code",
      "source": [
        "class Animal :\n",
        "  kor= \"동물\"\n",
        "  def __init__(self):\n",
        "    print('태어났습니다')\n",
        "  def 숨쉬기(self):\n",
        "    print('숨을 쉽니다')\n",
        "  def 움직이기( self):\n",
        "\n",
        "    print(\"몸을 움직입니다\")\n",
        "  def 말하기(self,문장):\n",
        "    print(문장)\n",
        "  def __del__(self):\n",
        "    print(\"죽었습니다\")      \n",
        "animal = Animal()\n",
        "print(\"==============\")\n",
        "del animal"
      ],
      "metadata": {
        "colab": {
          "base_uri": "https://localhost:8080/"
        },
        "id": "96lCYgxClo1L",
        "outputId": "6ea4db11-cbbf-4a6c-c2e3-bead6e6e6485"
      },
      "execution_count": 90,
      "outputs": [
        {
          "output_type": "stream",
          "name": "stdout",
          "text": [
            "태어났습니다\n",
            "==============\n",
            "죽었습니다\n"
          ]
        }
      ]
    },
    {
      "cell_type": "code",
      "source": [
        "class Animal:\n",
        "    def __init__(self,키,생일):\n",
        "        self.키 = 키\n",
        "        self.생일 = 생일\n",
        "        print(\"태어났습니다\")\n",
        "    def 키얻기(self):\n",
        "        print(f\"키는 {self.키}cm 입니다\")\n",
        "    def 생일얻기(self):\n",
        "        print(f\"생일은 {self.생일} 입니다\")\n",
        "    def 숨쉬기(self):\n",
        "        print(\"숨을 쉽니다\")\n",
        "    def 움직이기(self):\n",
        "        print(\"몸을 움직입니다\")\n",
        "    def 말하기(self, 문장):\n",
        "        print(문장)\n",
        "    def __del__(self):\n",
        "        print(\"죽었습니다.\")"
      ],
      "metadata": {
        "id": "d8s1zuNjnGbT"
      },
      "execution_count": 91,
      "outputs": []
    },
    {
      "cell_type": "code",
      "source": [
        "animal = Animal(30, 20220219)\n",
        "print(\"========================\")\n",
        "del animal"
      ],
      "metadata": {
        "colab": {
          "base_uri": "https://localhost:8080/"
        },
        "id": "r7f9JD0Wolmo",
        "outputId": "d15c1e04-2226-45df-838d-66f72b4696b2"
      },
      "execution_count": 92,
      "outputs": [
        {
          "output_type": "stream",
          "name": "stdout",
          "text": [
            "태어났습니다\n",
            "========================\n",
            "죽었습니다.\n"
          ]
        }
      ]
    },
    {
      "cell_type": "code",
      "source": [
        "animal = Animal(키=30, 생일=20220219)\n",
        "print(animal.키)\n",
        "animal.키얻기()"
      ],
      "metadata": {
        "colab": {
          "base_uri": "https://localhost:8080/"
        },
        "id": "eyyBwyJwpOyR",
        "outputId": "e9cfe15c-922d-4fe6-a801-91f5f529e91c"
      },
      "execution_count": 93,
      "outputs": [
        {
          "output_type": "stream",
          "name": "stdout",
          "text": [
            "태어났습니다\n",
            "30\n",
            "키는 30cm 입니다\n"
          ]
        }
      ]
    },
    {
      "cell_type": "code",
      "source": [
        "animal.키 = 2"
      ],
      "metadata": {
        "id": "HOJsYtXmpTCc"
      },
      "execution_count": 94,
      "outputs": []
    },
    {
      "cell_type": "code",
      "source": [
        "animal.키얻기()"
      ],
      "metadata": {
        "colab": {
          "base_uri": "https://localhost:8080/"
        },
        "id": "iWw3N-ampTnb",
        "outputId": "cdc61544-cfa7-46a9-d86f-f108c7d2f48d"
      },
      "execution_count": 95,
      "outputs": [
        {
          "output_type": "stream",
          "name": "stdout",
          "text": [
            "키는 2cm 입니다\n"
          ]
        }
      ]
    },
    {
      "cell_type": "code",
      "source": [
        "dir(animal)"
      ],
      "metadata": {
        "colab": {
          "base_uri": "https://localhost:8080/"
        },
        "id": "1gd21rgApa2h",
        "outputId": "6547cb55-21d6-4c8e-80bf-438b46ca018f"
      },
      "execution_count": 96,
      "outputs": [
        {
          "output_type": "execute_result",
          "data": {
            "text/plain": [
              "['__class__',\n",
              " '__del__',\n",
              " '__delattr__',\n",
              " '__dict__',\n",
              " '__dir__',\n",
              " '__doc__',\n",
              " '__eq__',\n",
              " '__format__',\n",
              " '__ge__',\n",
              " '__getattribute__',\n",
              " '__gt__',\n",
              " '__hash__',\n",
              " '__init__',\n",
              " '__init_subclass__',\n",
              " '__le__',\n",
              " '__lt__',\n",
              " '__module__',\n",
              " '__ne__',\n",
              " '__new__',\n",
              " '__reduce__',\n",
              " '__reduce_ex__',\n",
              " '__repr__',\n",
              " '__setattr__',\n",
              " '__sizeof__',\n",
              " '__str__',\n",
              " '__subclasshook__',\n",
              " '__weakref__',\n",
              " '말하기',\n",
              " '생일',\n",
              " '생일얻기',\n",
              " '숨쉬기',\n",
              " '움직이기',\n",
              " '키',\n",
              " '키얻기']"
            ]
          },
          "metadata": {},
          "execution_count": 96
        }
      ]
    },
    {
      "cell_type": "code",
      "source": [
        "print(type(animal.말하기))"
      ],
      "metadata": {
        "colab": {
          "base_uri": "https://localhost:8080/"
        },
        "id": "TOa26Or1qXeI",
        "outputId": "e5ad2249-521a-43de-f587-d026f1a07955"
      },
      "execution_count": 98,
      "outputs": [
        {
          "output_type": "stream",
          "name": "stdout",
          "text": [
            "<class 'method'>\n"
          ]
        }
      ]
    },
    {
      "cell_type": "code",
      "source": [
        "class 개(Animal):\n",
        "    def 짖기(self):\n",
        "        print(\"멍\")"
      ],
      "metadata": {
        "id": "k-BpTRZvqru4"
      },
      "execution_count": 99,
      "outputs": []
    },
    {
      "cell_type": "code",
      "source": [
        "요크셔 = 개(키=30, 생일=\"오늘\")\n",
        "요크셔.짖기()\n",
        "      "
      ],
      "metadata": {
        "colab": {
          "base_uri": "https://localhost:8080/"
        },
        "id": "BFcFDDZKq6Cv",
        "outputId": "0fdea981-b51d-441e-d77f-44d4084ed959"
      },
      "execution_count": 100,
      "outputs": [
        {
          "output_type": "stream",
          "name": "stdout",
          "text": [
            "태어났습니다\n",
            "멍\n"
          ]
        }
      ]
    },
    {
      "cell_type": "code",
      "source": [
        "요크셔.키얻기()"
      ],
      "metadata": {
        "colab": {
          "base_uri": "https://localhost:8080/"
        },
        "id": "SAvhYjuVrFjR",
        "outputId": "9f5e49ea-1e7e-4ba8-ea08-6f1ff91c6b6b"
      },
      "execution_count": 103,
      "outputs": [
        {
          "output_type": "stream",
          "name": "stdout",
          "text": [
            "키는 30cm 입니다\n"
          ]
        }
      ]
    },
    {
      "cell_type": "code",
      "source": [
        "del 요크셔"
      ],
      "metadata": {
        "colab": {
          "base_uri": "https://localhost:8080/"
        },
        "id": "d7oeshwvrJrM",
        "outputId": "ea4de25a-88d7-4f50-92b5-ad65a4db401b"
      },
      "execution_count": 105,
      "outputs": [
        {
          "output_type": "stream",
          "name": "stdout",
          "text": [
            "죽었습니다.\n"
          ]
        }
      ]
    },
    {
      "cell_type": "code",
      "source": [
        ""
      ],
      "metadata": {
        "id": "jIkfoB6hrx2e"
      },
      "execution_count": null,
      "outputs": []
    }
  ]
}